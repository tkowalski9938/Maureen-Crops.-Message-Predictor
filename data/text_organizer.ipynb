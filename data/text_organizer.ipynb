{
 "cells": [
  {
   "cell_type": "code",
   "execution_count": 1,
   "metadata": {},
   "outputs": [],
   "source": [
    "import pandas as pd"
   ]
  },
  {
   "cell_type": "code",
   "execution_count": 2,
   "metadata": {},
   "outputs": [
    {
     "data": {
      "text/html": [
       "<div>\n",
       "<style scoped>\n",
       "    .dataframe tbody tr th:only-of-type {\n",
       "        vertical-align: middle;\n",
       "    }\n",
       "\n",
       "    .dataframe tbody tr th {\n",
       "        vertical-align: top;\n",
       "    }\n",
       "\n",
       "    .dataframe thead th {\n",
       "        text-align: right;\n",
       "    }\n",
       "</style>\n",
       "<table border=\"1\" class=\"dataframe\">\n",
       "  <thead>\n",
       "    <tr style=\"text-align: right;\">\n",
       "      <th></th>\n",
       "      <th>content</th>\n",
       "      <th>user</th>\n",
       "    </tr>\n",
       "  </thead>\n",
       "  <tbody>\n",
       "    <tr>\n",
       "      <th>0</th>\n",
       "      <td>server just dropped</td>\n",
       "      <td>Spencer</td>\n",
       "    </tr>\n",
       "    <tr>\n",
       "      <th>1</th>\n",
       "      <td>Pog</td>\n",
       "      <td>Bryan</td>\n",
       "    </tr>\n",
       "    <tr>\n",
       "      <th>2</th>\n",
       "      <td>Is this the virgin server</td>\n",
       "      <td>Luka</td>\n",
       "    </tr>\n",
       "    <tr>\n",
       "      <th>3</th>\n",
       "      <td>Ok wait</td>\n",
       "      <td>Luka</td>\n",
       "    </tr>\n",
       "    <tr>\n",
       "      <th>4</th>\n",
       "      <td>hmm i wonder</td>\n",
       "      <td>Spencer</td>\n",
       "    </tr>\n",
       "    <tr>\n",
       "      <th>...</th>\n",
       "      <td>...</td>\n",
       "      <td>...</td>\n",
       "    </tr>\n",
       "    <tr>\n",
       "      <th>55839</th>\n",
       "      <td>and idts</td>\n",
       "      <td>Shahithya</td>\n",
       "    </tr>\n",
       "    <tr>\n",
       "      <th>55840</th>\n",
       "      <td>i think it closes at 10</td>\n",
       "      <td>Shahithya</td>\n",
       "    </tr>\n",
       "    <tr>\n",
       "      <th>55841</th>\n",
       "      <td>yeah some girl tried to come in without her va...</td>\n",
       "      <td>Josh</td>\n",
       "    </tr>\n",
       "    <tr>\n",
       "      <th>55842</th>\n",
       "      <td>LMAOOO</td>\n",
       "      <td>Shahithya</td>\n",
       "    </tr>\n",
       "    <tr>\n",
       "      <th>55843</th>\n",
       "      <td>neutral_face</td>\n",
       "      <td>Maureen</td>\n",
       "    </tr>\n",
       "  </tbody>\n",
       "</table>\n",
       "<p>55844 rows × 2 columns</p>\n",
       "</div>"
      ],
      "text/plain": [
       "                                                 content       user\n",
       "0                                    server just dropped    Spencer\n",
       "1                                                    Pog      Bryan\n",
       "2                              Is this the virgin server       Luka\n",
       "3                                                Ok wait       Luka\n",
       "4                                           hmm i wonder    Spencer\n",
       "...                                                  ...        ...\n",
       "55839                                           and idts  Shahithya\n",
       "55840                            i think it closes at 10  Shahithya\n",
       "55841  yeah some girl tried to come in without her va...       Josh\n",
       "55842                                             LMAOOO  Shahithya\n",
       "55843                                       neutral_face    Maureen\n",
       "\n",
       "[55844 rows x 2 columns]"
      ]
     },
     "execution_count": 2,
     "metadata": {},
     "output_type": "execute_result"
    }
   ],
   "source": [
    "df = pd.read_csv(\"./preprocessed.csv\")\n",
    "df"
   ]
  },
  {
   "cell_type": "code",
   "execution_count": 3,
   "metadata": {},
   "outputs": [],
   "source": [
    "for index, row in df.iterrows():\n",
    "    name = str(row[\"user\"])\n",
    "    f = open(\"./train/\" + name + \"/\" + name[0] + str(index) + \".txt\", \"w\")\n",
    "    f.write(row[\"content\"])\n"
   ]
  }
 ],
 "metadata": {
  "interpreter": {
   "hash": "a8503c7e3c56e4c95b66d6acd996c20bad58647448db124ac4a57c9b3e242cba"
  },
  "kernelspec": {
   "display_name": "Python 3.9.10 ('base')",
   "language": "python",
   "name": "python3"
  },
  "language_info": {
   "codemirror_mode": {
    "name": "ipython",
    "version": 3
   },
   "file_extension": ".py",
   "mimetype": "text/x-python",
   "name": "python",
   "nbconvert_exporter": "python",
   "pygments_lexer": "ipython3",
   "version": "3.9.10"
  },
  "orig_nbformat": 4
 },
 "nbformat": 4,
 "nbformat_minor": 2
}
